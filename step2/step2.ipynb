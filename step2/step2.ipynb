{
 "cells": [
  {
   "cell_type": "code",
   "id": "initial_id",
   "metadata": {
    "collapsed": true,
    "ExecuteTime": {
     "end_time": "2025-02-07T16:22:22.792910Z",
     "start_time": "2025-02-07T16:21:46.697362Z"
    }
   },
   "source": [
    "# Step 1: Install CD-HIT (if not installed)\n",
    "!conda install -y -c bioconda cd-hit"
   ],
   "outputs": [
    {
     "name": "stdout",
     "output_type": "stream",
     "text": [
      "Channels:\r\n",
      " - bioconda\r\n",
      " - defaults\r\n",
      "Platform: linux-64\r\n",
      "Collecting package metadata (repodata.json): done\r\n",
      "Solving environment: done\r\n",
      "\r\n",
      "# All requested packages already installed.\r\n",
      "\r\n"
     ]
    }
   ],
   "execution_count": 1
  },
  {
   "metadata": {
    "ExecuteTime": {
     "end_time": "2025-02-07T16:25:51.232446Z",
     "start_time": "2025-02-07T16:25:50.920867Z"
    }
   },
   "cell_type": "code",
   "source": [
    "# Step 2: Run CD-HIT to cluster sequences at 97% similarity\n",
    "!cd-hit -i translated_proteins.fasta -o clustered_proteins.fasta -c 0.97 -n 5"
   ],
   "id": "8c890181b282d94e",
   "outputs": [
    {
     "name": "stdout",
     "output_type": "stream",
     "text": [
      "================================================================\r\n",
      "Program: CD-HIT, V4.8.1 (+OpenMP), Nov 12 2024, 10:35:24\r\n",
      "Command: cd-hit -i translated_proteins.fasta -o\r\n",
      "         clustered_proteins.fasta -c 0.97 -n 5\r\n",
      "\r\n",
      "Started: Fri Feb  7 19:55:51 2025\r\n",
      "================================================================\r\n",
      "                            Output                              \r\n",
      "----------------------------------------------------------------\r\n",
      "total seq: 1817\r\n",
      "longest and shortest : 2358 and 11\r\n",
      "Total letters: 168514\r\n",
      "Sequences have been sorted\r\n",
      "\r\n",
      "Approximated minimal memory consumption:\r\n",
      "Sequence        : 0M\r\n",
      "Buffer          : 1 X 16M = 16M\r\n",
      "Table           : 1 X 65M = 65M\r\n",
      "Miscellaneous   : 0M\r\n",
      "Total           : 82M\r\n",
      "\r\n",
      "Table limit with the given memory limit:\r\n",
      "Max number of representatives: 2550757\r\n",
      "Max number of word counting entries: 89709506\r\n",
      "\r\n",
      "comparing sequences from          0  to       1817\r\n",
      ".\r\n",
      "     1817  finished       1747  clusters\r\n",
      "\r\n",
      "Approximated maximum memory consumption: 83M\r\n",
      "writing new database\r\n",
      "writing clustering information\r\n",
      "program completed !\r\n",
      "\r\n",
      "Total CPU time 0.07\r\n"
     ]
    }
   ],
   "execution_count": 3
  },
  {
   "metadata": {
    "ExecuteTime": {
     "end_time": "2025-02-07T16:31:41.276088Z",
     "start_time": "2025-02-07T16:31:41.247929Z"
    }
   },
   "cell_type": "code",
   "source": [
    "# Step 3: Parse the CD-HIT cluster file\n",
    "import pandas as pd\n",
    "from Bio import SeqIO\n",
    "\n",
    "# Read CD-HIT clustering output\n",
    "cluster_file = \"clustered_proteins.fasta.clstr\"\n",
    "cluster_map = {}\n",
    "\n",
    "with open(cluster_file, \"r\") as clstr_file:\n",
    "    cluster_id = None\n",
    "    for line in clstr_file:\n",
    "        if line.startswith(\">Cluster\"):\n",
    "            cluster_id = line.strip()  # Extract cluster ID\n",
    "        else:\n",
    "            seq_id = line.split(\">\")[1].split(\"...\")[0].strip()  # Extract sequence ID\n",
    "            cluster_map[seq_id] = cluster_id\n",
    "\n",
    "# Step 4: Read the clustered protein sequences\n",
    "seq_records = {rec.id: rec for rec in SeqIO.parse(\"clustered_proteins.fasta\", \"fasta\")}\n",
    "\n",
    "# Step 5: Select the longest sequence in each cluster\n",
    "representative_seqs = {}\n",
    "missing_seqs = []\n",
    "\n",
    "for seq_id, cluster_id in cluster_map.items():\n",
    "    if seq_id in seq_records:\n",
    "        seq_length = len(seq_records[seq_id].seq)\n",
    "        # Keep the longest sequence in the cluster\n",
    "        if cluster_id not in representative_seqs or seq_length > len(representative_seqs[cluster_id].seq):\n",
    "            representative_seqs[cluster_id] = seq_records[seq_id]\n",
    "    else:\n",
    "        missing_seqs.append(seq_id)\n",
    "\n",
    "# Step 6: Save the representative protein sequences\n",
    "with open(\"representative_proteins.fasta\", \"w\") as rep_file:\n",
    "    for rep_seq in representative_seqs.values():\n",
    "        SeqIO.write(rep_seq, rep_file, \"fasta\")\n",
    "\n",
    "# Step 7: Log any missing sequences (for debugging)\n",
    "if missing_seqs:\n",
    "    with open(\"missing_sequences.log\", \"w\") as log_file:\n",
    "        log_file.write(\"\\n\".join(missing_seqs))\n",
    "    print(f\"⚠️ Warning: {len(missing_seqs)} sequences in .clstr were not found in clustered_proteins.fasta.\")\n",
    "    print(\"Check 'missing_sequences.log' for details.\")\n",
    "\n",
    "print(\"✅ Step 2 completed: Representative sequences saved in 'representative_proteins.fasta'.\")\n"
   ],
   "id": "9e0b60e6f2f8af76",
   "outputs": [
    {
     "name": "stdout",
     "output_type": "stream",
     "text": [
      "⚠️ Warning: 70 sequences in .clstr were not found in clustered_proteins.fasta.\n",
      "Check 'missing_sequences.log' for details.\n",
      "✅ Step 2 completed: Representative sequences saved in 'representative_proteins.fasta'.\n"
     ]
    }
   ],
   "execution_count": 7
  }
 ],
 "metadata": {
  "kernelspec": {
   "display_name": "Python 3",
   "language": "python",
   "name": "python3"
  },
  "language_info": {
   "codemirror_mode": {
    "name": "ipython",
    "version": 2
   },
   "file_extension": ".py",
   "mimetype": "text/x-python",
   "name": "python",
   "nbconvert_exporter": "python",
   "pygments_lexer": "ipython2",
   "version": "2.7.6"
  }
 },
 "nbformat": 4,
 "nbformat_minor": 5
}
